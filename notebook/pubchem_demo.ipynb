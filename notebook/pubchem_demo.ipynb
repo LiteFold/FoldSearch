{
  "cells": [
    {
      "cell_type": "raw",
      "metadata": {
        "vscode": {
          "languageId": "raw"
        }
      },
      "source": [
        "# PubChem API Demo\n",
        "\n",
        "This notebook demonstrates how to use the comprehensive PubChem API functions for chemical compound searches and data retrieval.\n",
        "\n",
        "The API is based on NCBI's PUG REST service and provides access to:\n",
        "- Chemical compound searches by name, SMILES, InChI, formula\n",
        "- Structure searches (substructure, similarity, identity)\n",
        "- Compound properties and synonyms\n",
        "- Bioassay data\n",
        "- Mass-based searches\n",
        "- Advanced filtering and compound analysis\n"
      ]
    },
    {
      "cell_type": "code",
      "execution_count": 3,
      "metadata": {},
      "outputs": [],
      "source": [
        "# Import the PubChem API functions\n",
        "import sys\n",
        "sys.path.append('../')\n",
        "\n",
        "from pubchemapi import (\n",
        "    compound_by_name, compound_by_smiles, compound_by_formula, compound_by_inchi_key,\n",
        "    get_compound_properties, get_compound_synonyms,\n",
        "    substructure_search, similarity_search, identity_search,\n",
        "    search_by_mass, get_bioassay_data, search_assays_by_target, get_compound_bioactivity,\n",
        "    drug_like_compounds, complex_search, get_compound_image, validate_smiles\n",
        ")\n",
        "\n",
        "import pandas as pd\n",
        "import json\n",
        "from IPython.display import Image, display\n"
      ]
    },
    {
      "cell_type": "raw",
      "metadata": {
        "vscode": {
          "languageId": "raw"
        }
      },
      "source": [
        "## 1. Basic Compound Searches\n"
      ]
    },
    {
      "cell_type": "code",
      "execution_count": 4,
      "metadata": {},
      "outputs": [
        {
          "name": "stdout",
          "output_type": "stream",
          "text": [
            "=== Searching for Aspirin ===\n",
            "Found 1 compounds\n",
            "CIDs: ['2244']\n",
            "\n",
            "=== Searching for Caffeine by SMILES ===\n",
            "Found 1 compounds\n",
            "CIDs: ['2519']\n",
            "\n",
            "=== Searching for C8H9NO2 (acetaminophen formula) ===\n",
            "Found 10 compounds\n",
            "First 5 CIDs: ['1983', '8635', '11972', '12124', '65526']\n"
          ]
        }
      ],
      "source": [
        "# Search by compound name\n",
        "print(\"=== Searching for Aspirin ===\")\n",
        "aspirin_results = compound_by_name(\"aspirin\", limit=5)\n",
        "print(f\"Found {aspirin_results['total_count']} compounds\")\n",
        "print(f\"CIDs: {aspirin_results['cids'][:5]}\")\n",
        "print()\n",
        "\n",
        "# Search by SMILES string (caffeine)\n",
        "print(\"=== Searching for Caffeine by SMILES ===\")\n",
        "caffeine_smiles = \"CN1C=NC2=C1C(=O)N(C(=O)N2C)C\"\n",
        "caffeine_results = compound_by_smiles(caffeine_smiles)\n",
        "print(f\"Found {caffeine_results['total_count']} compounds\")\n",
        "print(f\"CIDs: {caffeine_results['cids']}\")\n",
        "print()\n",
        "\n",
        "# Search by molecular formula\n",
        "print(\"=== Searching for C8H9NO2 (acetaminophen formula) ===\")\n",
        "formula_results = compound_by_formula(\"C8H9NO2\", limit=10)\n",
        "print(f\"Found {formula_results['total_count']} compounds\")\n",
        "print(f\"First 5 CIDs: {formula_results['cids'][:5]}\")\n"
      ]
    },
    {
      "cell_type": "code",
      "execution_count": null,
      "metadata": {},
      "outputs": [],
      "source": []
    }
  ],
  "metadata": {
    "kernelspec": {
      "display_name": "litefold_py311",
      "language": "python",
      "name": "python3"
    },
    "language_info": {
      "codemirror_mode": {
        "name": "ipython",
        "version": 3
      },
      "file_extension": ".py",
      "mimetype": "text/x-python",
      "name": "python",
      "nbconvert_exporter": "python",
      "pygments_lexer": "ipython3",
      "version": "3.11.11"
    }
  },
  "nbformat": 4,
  "nbformat_minor": 2
}
