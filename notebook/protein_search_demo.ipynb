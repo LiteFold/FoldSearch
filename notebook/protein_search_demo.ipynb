{
  "cells": [
    {
      "cell_type": "raw",
      "metadata": {
        "vscode": {
          "languageId": "raw"
        }
      },
      "source": [
        "# Protein Structure Search API - Complete Usage Guide\n",
        "\n",
        "This notebook demonstrates all 10 core functions in the protein search module, showing when and how to use each one effectively.\n"
      ]
    },
    {
      "cell_type": "code",
      "execution_count": 1,
      "metadata": {},
      "outputs": [],
      "source": [
        "# Import the protein search functions\n",
        "from notebook.protein_search import *\n"
      ]
    },
    {
      "cell_type": "raw",
      "metadata": {
        "vscode": {
          "languageId": "raw"
        }
      },
      "source": [
        "## 1. search_structures() - General Structure Search\n",
        "\n",
        "**When to use:** When you want to find structures by keyword, organism, experimental method, or resolution.\n",
        "\n",
        "**Best for:** Initial exploration, finding structures related to specific proteins or conditions.\n"
      ]
    },
    {
      "cell_type": "code",
      "execution_count": 2,
      "metadata": {},
      "outputs": [
        {
          "name": "stdout",
          "output_type": "stream",
          "text": [
            "=== Searching for insulin structures ===\n",
            "Found 4435 insulin structures\n",
            "Top 5 PDB IDs: ['6RLX', '5JYQ', '2WFU', '2WFV', '1ZT3']\n",
            "Scores: {'6RLX': 0.9941523690322508, '5JYQ': 0.9940683158491971, '2WFU': 0.9910523909666406, '2WFV': 0.9910523909666406, '1ZT3': 0.988116276326907}\n"
          ]
        }
      ],
      "source": [
        "# Example 1: Search by protein name\n",
        "print(\"=== Searching for insulin structures ===\")\n",
        "insulin_results = search_structures(\n",
        "    query=\"insulin\",\n",
        "    max_resolution=2.0,  # High quality only\n",
        "    limit=5\n",
        ")\n",
        "print(f\"Found {insulin_results['total_count']} insulin structures\")\n",
        "print(f\"Top 5 PDB IDs: {insulin_results['pdb_ids']}\")\n",
        "print(f\"Scores: {insulin_results['scores']}\")\n"
      ]
    },
    {
      "cell_type": "code",
      "execution_count": 3,
      "metadata": {},
      "outputs": [
        {
          "name": "stdout",
          "output_type": "stream",
          "text": [
            "\n",
            "=== Human proteins solved by X-ray crystallography ===\n",
            "Found 10 high-resolution human structures\n",
            "PDB IDs: ['1A4I', '1A7S', '1AAP', '1AIE', '1B9O']\n"
          ]
        }
      ],
      "source": [
        "# Example 2: Search by organism and method\n",
        "print(\"\\n=== Human proteins solved by X-ray crystallography ===\")\n",
        "human_xray = search_structures(\n",
        "    organism=\"Homo sapiens\",\n",
        "    method=\"X-RAY DIFFRACTION\",\n",
        "    max_resolution=1.5,  # Very high resolution\n",
        "    limit=10\n",
        ")\n",
        "print(f\"Found {human_xray['returned_count']} high-resolution human structures\")\n",
        "print(f\"PDB IDs: {human_xray['pdb_ids'][:5]}\")\n"
      ]
    },
    {
      "cell_type": "raw",
      "metadata": {
        "vscode": {
          "languageId": "raw"
        }
      },
      "source": [
        "## 2. search_by_sequence() - Sequence Similarity Search\n",
        "\n",
        "**When to use:** When you have a protein sequence and want to find similar structures.\n",
        "\n",
        "**Best for:** Homology modeling, finding structural templates, evolutionary studies.\n"
      ]
    },
    {
      "cell_type": "code",
      "execution_count": 10,
      "metadata": {},
      "outputs": [
        {
          "name": "stdout",
          "output_type": "stream",
          "text": [
            "=== Searching by sequence similarity ===\n",
            "Found 123 structures with similar sequences\n",
            "Best matches: ['1BIK', '1T8N', '3BTT']\n",
            "Similarity scores: [1.5, 0.7692307692307692, 0.7692307692307692]\n"
          ]
        }
      ],
      "source": [
        "# Example: Search for structures similar to a given sequence\n",
        "# Small insulin A-chain sequence for demonstration\n",
        "insulin_sequence = \"METPAQLSFLLLLLWLPDTTGSPIPLPETTEDTYRMLLAHNLLAHATRAIVVDPNDNSTQNLGYKFSQNVQELLRELDKIQNVLSLLSRIQHLPRILAKRQRPVKLLARSQNLTGLLDFTGKFTPNVARYFYNGTSMACETFQYGGCMGNGNNFVTEKECLQTCRTVAAERPGVNLLSDWQSQRALMPFSSCHDGYTLNNQCCRPGWQRPANPTANLNRHLKECCEVEHDTPANCLTPEAAEAPLVPVGSSDARWTPIPPGVQSQVSVSVGVHTATQTAPGAVAPLGPLSTPHCSROUGQYTNKQDRGPVLPSPALMPLVGVQTLTCGGESCGPLPEAAEAPLVPVGSSDARWTPIPPGVQSQVSVSVGVHTATQTAPGAVAPLGPLSTPHCSROUGQYTNKQDRGPVLPSPALMPLVGVQTLTCGGESCGPLP\"  # Human haptoglobin sequence\n",
        "\n",
        "print(\"=== Searching by sequence similarity ===\")\n",
        "seq_results = search_by_sequence(\n",
        "    sequence=insulin_sequence,\n",
        "    sequence_type=\"protein\",\n",
        "    identity_cutoff=0.3,  # 30% identity minimum\n",
        "    max_resolution=2.5,\n",
        "    limit=10\n",
        ")\n",
        "print(f\"Found {seq_results['total_count']} structures with similar sequences\")\n",
        "print(f\"Best matches: {seq_results['pdb_ids'][:3]}\")\n",
        "print(f\"Similarity scores: {[seq_results['scores'][pdb] for pdb in seq_results['pdb_ids'][:3]]}\")\n"
      ]
    },
    {
      "cell_type": "code",
      "execution_count": 11,
      "metadata": {},
      "outputs": [
        {
          "name": "stdout",
          "output_type": "stream",
          "text": [
            "=== Searching for structures similar to 4INS (insulin) ===\n",
            "Found 1712 structurally similar entries\n",
            "Similar structures: ['4INS', '3INS', '4E7T', '4M4M', '1IZB']\n",
            "Shape similarity scores: [1.0, 0.8914623662209674, 0.8243856490859911]\n"
          ]
        }
      ],
      "source": [
        "# Example: Find structures similar to insulin (4INS)\n",
        "print(\"=== Searching for structures similar to 4INS (insulin) ===\")\n",
        "struct_results = search_by_structure(\n",
        "    reference_pdb_ids=\"4INS\",\n",
        "    match_type=\"relaxed\",  # Allow some flexibility\n",
        "    limit=10\n",
        ")\n",
        "print(f\"Found {struct_results['total_count']} structurally similar entries\")\n",
        "print(f\"Similar structures: {struct_results['pdb_ids'][:5]}\")\n",
        "print(f\"Shape similarity scores: {[struct_results['scores'][pdb] for pdb in struct_results['pdb_ids'][:3]]}\")\n"
      ]
    },
    {
      "cell_type": "raw",
      "metadata": {
        "vscode": {
          "languageId": "raw"
        }
      },
      "source": [
        "## 4. search_by_chemical() - Chemical/Ligand Search\n",
        "\n",
        "**When to use:** When looking for structures containing specific ligands or chemical compounds.\n",
        "\n",
        "**Best for:** Drug design, studying protein-ligand interactions, finding binding sites.\n"
      ]
    },
    {
      "cell_type": "code",
      "execution_count": 12,
      "metadata": {},
      "outputs": [
        {
          "name": "stdout",
          "output_type": "stream",
          "text": [
            "=== Structures containing ATP ===\n",
            "Found 3 structures with ATP\n",
            "ATP-bound structures: ['6FCW', '5UBG', '6R5E']\n"
          ]
        }
      ],
      "source": [
        "# Example: Search by ligand name\n",
        "print(\"=== Structures containing ATP ===\")\n",
        "atp_results = search_by_chemical(\n",
        "    ligand_name=\"ATP\",\n",
        "    max_resolution=2.0,\n",
        "    limit=8\n",
        ")\n",
        "print(f\"Found {atp_results['total_count']} structures with ATP\")\n",
        "print(f\"ATP-bound structures: {atp_results['pdb_ids'][:5]}\")\n"
      ]
    },
    {
      "cell_type": "raw",
      "metadata": {
        "vscode": {
          "languageId": "raw"
        }
      },
      "source": [
        "## 5. get_high_quality_structures() - Quality-Filtered Search\n",
        "\n",
        "**When to use:** When you need only the highest quality structures for analysis.\n",
        "\n",
        "**Best for:** Structural biology research, accurate measurements, publication-quality data.\n"
      ]
    },
    {
      "cell_type": "code",
      "execution_count": 13,
      "metadata": {},
      "outputs": [
        {
          "name": "stdout",
          "output_type": "stream",
          "text": [
            "=== High-quality structures (strict criteria) ===\n",
            "Found 14944 high-quality structures\n",
            "Best quality PDBs: ['5D8V', '5NW3', '7ATG', '3X2M', '6ANM']\n",
            "These structures meet strict quality criteria for detailed analysis\n"
          ]
        }
      ],
      "source": [
        "# Example: Get high-quality structures\n",
        "print(\"=== High-quality structures (strict criteria) ===\")\n",
        "hq_results = get_high_quality_structures(\n",
        "    max_resolution=1.5,  # Very high resolution\n",
        "    max_r_work=0.20,     # Good refinement\n",
        "    max_r_free=0.25,     # Good validation\n",
        "    min_year=2015,       # Recent structures\n",
        "    limit=10\n",
        ")\n",
        "print(f\"Found {hq_results['total_count']} high-quality structures\")\n",
        "print(f\"Best quality PDBs: {hq_results['pdb_ids'][:5]}\")\n",
        "print(\"These structures meet strict quality criteria for detailed analysis\")\n"
      ]
    },
    {
      "cell_type": "raw",
      "metadata": {
        "vscode": {
          "languageId": "raw"
        }
      },
      "source": [
        "## 6. get_structure_details() - Detailed Information\n",
        "\n",
        "**When to use:** When you need comprehensive information about specific structures.\n",
        "\n",
        "**Best for:** Structure analysis, preparing for experiments, understanding composition.\n"
      ]
    },
    {
      "cell_type": "code",
      "execution_count": 14,
      "metadata": {},
      "outputs": [
        {
          "name": "stdout",
          "output_type": "stream",
          "text": [
            "=== Detailed information for insulin structure (4INS) ===\n",
            "Title: THE STRUCTURE OF 2ZN PIG INSULIN CRYSTALS AT 1.5 ANGSTROMS RESOLUTION\n",
            "Method: X-RAY DIFFRACTION\n",
            "Resolution: 1.5 Å\n",
            "Space group: H 3\n",
            "Number of entities: 2\n",
            "Ligands: ['ZN']\n",
            "\n",
            "Entity details:\n",
            "  - INSULIN (CHAIN A) (21 residues, Sus scrofa)\n",
            "  - INSULIN (CHAIN B) (30 residues, Sus scrofa)\n"
          ]
        }
      ],
      "source": [
        "# Example: Get detailed information for specific structures\n",
        "print(\"=== Detailed information for insulin structure (4INS) ===\")\n",
        "details = get_structure_details([\"4INS\"], include_assembly=True)\n",
        "\n",
        "pdb_info = details[\"4INS\"]\n",
        "print(f\"Title: {pdb_info['title']}\")\n",
        "print(f\"Method: {pdb_info['method']}\")\n",
        "print(f\"Resolution: {pdb_info['resolution_A']} Å\")\n",
        "print(f\"Space group: {pdb_info['space_group']}\")\n",
        "print(f\"Number of entities: {len(pdb_info['entities'])}\")\n",
        "print(f\"Ligands: {pdb_info['ligands']}\")\n",
        "\n",
        "print(\"\\nEntity details:\")\n",
        "for entity in pdb_info['entities']:\n",
        "    print(f\"  - {entity['description']} ({entity['sequence_length']} residues, {entity['organism']})\")\n"
      ]
    },
    {
      "cell_type": "raw",
      "metadata": {
        "vscode": {
          "languageId": "raw"
        }
      },
      "source": [
        "## 7. get_sequences() - Sequence Extraction\n",
        "\n",
        "**When to use:** When you need the actual protein sequences from structures.\n",
        "\n",
        "**Best for:** Sequence analysis, alignment studies, computational biology.\n",
        "\n",
        "## 8. compare_structures() - Structure Comparison\n",
        "\n",
        "**When to use:** When you want to compare multiple structures quantitatively.\n",
        "\n",
        "**Best for:** Evolutionary studies, conformational analysis, structure-function relationships.\n",
        "\n",
        "## 9. analyze_interactions() - Interaction Analysis  \n",
        "\n",
        "**When to use:** When studying molecular interactions and binding partners.\n",
        "\n",
        "**Best for:** Drug discovery, understanding protein complexes, binding site analysis.\n",
        "\n",
        "## 10. get_structural_summary() - Research Overview\n",
        "\n",
        "**When to use:** When you need a comprehensive overview for research planning.\n",
        "\n",
        "**Best for:** Literature reviews, research proposals, quick structure assessment.\n"
      ]
    },
    {
      "cell_type": "code",
      "execution_count": 15,
      "metadata": {},
      "outputs": [
        {
          "name": "stdout",
          "output_type": "stream",
          "text": [
            "=== Extracting sequences ===\n",
            "1ZNI_1:\n",
            "  Type: Protein\n",
            "  Length: 21 residues\n",
            "  Sequence: GIVEQCCTSICSLYQLENYCN...\n",
            "\n",
            "4INS_1:\n",
            "  Type: Protein\n",
            "  Length: 21 residues\n",
            "  Sequence: GIVEQCCTSICSLYQLENYCN...\n",
            "\n"
          ]
        }
      ],
      "source": [
        "# Example: Extract sequences from structures\n",
        "print(\"=== Extracting sequences ===\")\n",
        "sequences = get_sequences([\"4INS\", \"1ZNI\"])  # Insulin structures\n",
        "\n",
        "for seq_key, seq_data in sequences.items():\n",
        "    if 'error' not in seq_data:\n",
        "        print(f\"{seq_key}:\")\n",
        "        print(f\"  Type: {seq_data['type']}\")\n",
        "        print(f\"  Length: {seq_data['length']} residues\")\n",
        "        print(f\"  Sequence: {seq_data['sequence'][:50]}...\" if seq_data['sequence'] else \"  No sequence available\")\n",
        "        print()\n"
      ]
    },
    {
      "cell_type": "code",
      "execution_count": 16,
      "metadata": {},
      "outputs": [
        {
          "name": "stdout",
          "output_type": "stream",
          "text": [
            "=== Comparing insulin structures ===\n",
            "Comparing: ['4INS', '1ZNI', '3W11']\n",
            "\n",
            "Pairwise sequence identities:\n",
            "  4INS_1ZNI: 100.0% identity, length diff: 0\n",
            "  4INS_3W11: 100.0% identity, length diff: 0\n",
            "  1ZNI_3W11: 100.0% identity, length diff: 0\n"
          ]
        }
      ],
      "source": [
        "# Example: Compare insulin structures\n",
        "print(\"=== Comparing insulin structures ===\")\n",
        "comparison = compare_structures(\n",
        "    pdb_ids=[\"4INS\", \"1ZNI\", \"3W11\"],  # Different insulin structures\n",
        "    comparison_type=\"sequence\"\n",
        ")\n",
        "\n",
        "print(f\"Comparing: {comparison['pdb_ids']}\")\n",
        "print(\"\\nPairwise sequence identities:\")\n",
        "for pair, data in comparison['comparisons'].items():\n",
        "    print(f\"  {pair}: {data['sequence_identity']:.1%} identity, length diff: {data['length_difference']}\")\n"
      ]
    },
    {
      "cell_type": "code",
      "execution_count": 17,
      "metadata": {},
      "outputs": [
        {
          "name": "stdout",
          "output_type": "stream",
          "text": [
            "=== Analyzing molecular interactions ===\n",
            "\n",
            "4INS:\n",
            "  Protein chains: []\n",
            "  Ligands: 1 present\n",
            "  Interactions found:\n",
            "    - protein-ligand: Present\n",
            "  Quaternary structure: dimeric\n",
            "\n",
            "1HVH:\n",
            "  Protein chains: []\n",
            "  Ligands: 0 present\n",
            "  Interactions found:\n",
            "  Quaternary structure: dimeric\n"
          ]
        }
      ],
      "source": [
        "# Example: Analyze interactions in structures\n",
        "print(\"=== Analyzing molecular interactions ===\")\n",
        "interactions = analyze_interactions(\n",
        "    pdb_ids=[\"4INS\", \"1HVH\"],  # Insulin and HIV protease\n",
        "    interaction_type=\"all\"\n",
        ")\n",
        "\n",
        "for pdb_id, data in interactions.items():\n",
        "    print(f\"\\n{pdb_id}:\")\n",
        "    print(f\"  Protein chains: {data['protein_chains']}\")\n",
        "    print(f\"  Ligands: {len(data['ligands'])} present\")\n",
        "    print(f\"  Interactions found:\")\n",
        "    for interaction in data['interactions']:\n",
        "        print(f\"    - {interaction['type']}: {interaction.get('description', 'Present')}\")\n",
        "    \n",
        "    if 'quaternary_structure' in data:\n",
        "        qs = data['quaternary_structure']\n",
        "        print(f\"  Quaternary structure: {qs.get('oligomeric_state', 'Unknown')}\")\n"
      ]
    },
    {
      "cell_type": "code",
      "execution_count": 18,
      "metadata": {},
      "outputs": [
        {
          "name": "stdout",
          "output_type": "stream",
          "text": [
            "=== Comprehensive structural summaries ===\n",
            "\n",
            "=== 4INS SUMMARY ===\n",
            "Title: THE STRUCTURE OF 2ZN PIG INSULIN CRYSTALS AT 1.5 ANGSTROMS RESOLUTION\n",
            "Method: X-RAY DIFFRACTION at 1.5 Å resolution\n",
            "Deposited: None\n",
            "Composition: 0 proteins, 1 ligands\n",
            "Organisms: ['Sus scrofa']\n",
            "Research relevance: drug target, protein complex, high resolution\n",
            "Quality assessment: Good (very good resolution)\n",
            "\n",
            "=== 1HVH SUMMARY ===\n",
            "Title: NONPEPTIDE CYCLIC CYANOGUANIDINES AS HIV PROTEASE INHIBITORS\n",
            "Method: X-RAY DIFFRACTION at 1.8 Å resolution\n",
            "Deposited: None\n",
            "Composition: 0 proteins, 0 ligands\n",
            "Organisms: ['Human immunodeficiency virus 1']\n",
            "Research relevance: high resolution\n",
            "Quality assessment: Good (very good resolution, good R-work)\n"
          ]
        }
      ],
      "source": [
        "# Example: Get comprehensive structural summaries\n",
        "print(\"=== Comprehensive structural summaries ===\")\n",
        "summaries = get_structural_summary(\n",
        "    pdb_ids=[\"4INS\", \"1HVH\"],\n",
        "    include_quality_metrics=True\n",
        ")\n",
        "\n",
        "for pdb_id, summary in summaries.items():\n",
        "    print(f\"\\n=== {pdb_id} SUMMARY ===\")\n",
        "    print(f\"Title: {summary['title']}\")\n",
        "    \n",
        "    exp = summary['experimental']\n",
        "    print(f\"Method: {exp['method']} at {exp['resolution_A']} Å resolution\")\n",
        "    print(f\"Deposited: {exp['deposition_date']}\")\n",
        "    \n",
        "    comp = summary['composition']\n",
        "    print(f\"Composition: {comp['protein_entities']} proteins, {comp['ligands']} ligands\")\n",
        "    print(f\"Organisms: {summary.get('organisms', ['Unknown'])}\")\n",
        "    \n",
        "    rel = summary['research_relevance']\n",
        "    relevance = []\n",
        "    if rel['has_ligands']: relevance.append(\"drug target\")\n",
        "    if rel['is_complex']: relevance.append(\"protein complex\")\n",
        "    if rel['high_resolution']: relevance.append(\"high resolution\")\n",
        "    print(f\"Research relevance: {', '.join(relevance) if relevance else 'basic structure'}\")\n",
        "    \n",
        "    if 'quality' in summary:\n",
        "        print(f\"Quality assessment: {summary['quality']['quality_score']}\")\n"
      ]
    },
    {
      "cell_type": "raw",
      "metadata": {
        "vscode": {
          "languageId": "raw"
        }
      },
      "source": [
        "## Usage Guidelines & Best Practices\n",
        "\n",
        "### When to Use Each Function:\n",
        "\n",
        "1. **search_structures()** - Start here for general searches\n",
        "2. **search_by_sequence()** - When you have a sequence and need similar structures\n",
        "3. **search_by_structure()** - When you want similar 3D shapes/folds\n",
        "4. **search_by_chemical()** - For drug discovery and ligand studies\n",
        "5. **get_high_quality_structures()** - When quality is critical\n",
        "6. **get_structure_details()** - After finding interesting structures\n",
        "7. **get_sequences()** - When you need actual sequences for analysis\n",
        "8. **compare_structures()** - For quantitative comparisons\n",
        "9. **analyze_interactions()** - For studying molecular interactions\n",
        "10. **get_structural_summary()** - For research overviews and planning\n",
        "\n",
        "### Typical Workflows:\n",
        "\n",
        "**Discovery Workflow:**\n",
        "1. `search_structures()` → find candidates\n",
        "2. `get_structure_details()` → examine promising hits\n",
        "3. `get_structural_summary()` → comprehensive overview\n",
        "\n",
        "**Homology Modeling:**\n",
        "1. `search_by_sequence()` → find templates\n",
        "2. `get_sequences()` → extract sequences\n",
        "3. `compare_structures()` → evaluate similarity\n",
        "\n",
        "**Drug Discovery:**\n",
        "1. `search_by_chemical()` → find ligand-bound structures\n",
        "2. `analyze_interactions()` → study binding\n",
        "3. `get_high_quality_structures()` → get best structures for modeling\n"
      ]
    },
    {
      "cell_type": "raw",
      "metadata": {
        "vscode": {
          "languageId": "raw"
        }
      },
      "source": [
        "## Advanced Usage Tips\n",
        "\n",
        "### 1. Chaining Functions\n",
        "```python\n",
        "# Find high-quality structures, then get details\n",
        "hq_results = get_high_quality_structures(max_resolution=1.5, limit=5)\n",
        "details = get_structure_details(hq_results['pdb_ids'])\n",
        "```\n",
        "\n",
        "### 2. Error Handling\n",
        "```python\n",
        "try:\n",
        "    results = search_structures(query=\"your_protein\")\n",
        "    if results['total_count'] == 0:\n",
        "        print(\"No structures found, try broader search\")\n",
        "except Exception as e:\n",
        "    print(f\"Search failed: {e}\")\n",
        "```\n",
        "\n",
        "### 3. Performance Tips\n",
        "- Use reasonable limits (100-1000) for large searches\n",
        "- Filter by resolution/quality early to reduce data volume\n",
        "- Use specific organism names when possible\n",
        "- Sequence searches are slower than text searches\n",
        "\n",
        "### 4. Function Selection Guide\n",
        "\n",
        "| Research Goal | Primary Function | Follow-up Functions |\n",
        "|---------------|------------------|-------------------|\n",
        "| General protein exploration | `search_structures()` | `get_structure_details()` |\n",
        "| Find structural templates | `search_by_sequence()` | `compare_structures()` |\n",
        "| Study protein folds | `search_by_structure()` | `get_structural_summary()` |\n",
        "| Drug discovery | `search_by_chemical()` | `analyze_interactions()` |\n",
        "| High-quality analysis | `get_high_quality_structures()` | `get_structure_details()` |\n",
        "| Sequence analysis | `get_sequences()` | `compare_structures()` |\n"
      ]
    },
    {
      "cell_type": "code",
      "execution_count": 19,
      "metadata": {},
      "outputs": [
        {
          "name": "stdout",
          "output_type": "stream",
          "text": [
            "=== COMPLETE WORKFLOW EXAMPLE: Drug Discovery ===\n",
            "\n",
            "1. Finding ATP-binding proteins...\n",
            "Found 3 ATP-binding structures\n",
            "\n",
            "2. Getting detailed structure information...\n",
            "\n",
            "3. Analyzing molecular interactions...\n",
            "\n",
            "4. Generating research summary...\n",
            "\n",
            "=== WORKFLOW RESULTS ===\n",
            "\n",
            "6FCW:\n",
            "  Title: Catalytic subunit HisG from Psychrobacter arcticus ATP phosphoribosyltransferase (HisZG ATPPRT) in complex with PRATP\n",
            "  Resolution: 2.0 Å\n",
            "  Protein chains: 0\n",
            "  Ligands present: 2\n",
            "  Research potential: Drug target \n",
            "\n",
            "5UBG:\n",
            "  Title: Catalytic core domain of Adenosine triphosphate phosphoribosyltransferase from Campylobacter jejuni with bound Phosphoribosyl-ATP\n",
            "  Resolution: 1.9 Å\n",
            "  Protein chains: 0\n",
            "  Ligands present: 2\n",
            "  Research potential: Drug target High-res structure \n",
            "\n",
            "=== This workflow helps identify promising drug targets! ===\n"
          ]
        }
      ],
      "source": [
        "# Example: Complete workflow for drug discovery research\n",
        "print(\"=== COMPLETE WORKFLOW EXAMPLE: Drug Discovery ===\")\n",
        "\n",
        "# Step 1: Find structures with specific ligand\n",
        "print(\"\\n1. Finding ATP-binding proteins...\")\n",
        "atp_structures = search_by_chemical(ligand_name=\"ATP\", max_resolution=2.0, limit=3)\n",
        "print(f\"Found {len(atp_structures['pdb_ids'])} ATP-binding structures\")\n",
        "\n",
        "# Step 2: Get detailed information\n",
        "print(\"\\n2. Getting detailed structure information...\")\n",
        "structure_details = get_structure_details(atp_structures['pdb_ids'][:2])\n",
        "\n",
        "# Step 3: Analyze interactions\n",
        "print(\"\\n3. Analyzing molecular interactions...\")\n",
        "interaction_data = analyze_interactions(atp_structures['pdb_ids'][:2])\n",
        "\n",
        "# Step 4: Get comprehensive summary\n",
        "print(\"\\n4. Generating research summary...\")\n",
        "research_summary = get_structural_summary(atp_structures['pdb_ids'][:2])\n",
        "\n",
        "print(\"\\n=== WORKFLOW RESULTS ===\")\n",
        "for pdb_id in atp_structures['pdb_ids'][:2]:\n",
        "    print(f\"\\n{pdb_id}:\")\n",
        "    summary = research_summary.get(pdb_id, {})\n",
        "    print(f\"  Title: {summary.get('title', 'Unknown')}\")\n",
        "    print(f\"  Resolution: {summary.get('experimental', {}).get('resolution_A', 'Unknown')} Å\")\n",
        "    \n",
        "    interactions = interaction_data.get(pdb_id, {})\n",
        "    print(f\"  Protein chains: {len(interactions.get('protein_chains', []))}\")\n",
        "    print(f\"  Ligands present: {len(interactions.get('ligands', []))}\")\n",
        "    \n",
        "    print(\"  Research potential:\", end=\" \")\n",
        "    rel = summary.get('research_relevance', {})\n",
        "    if rel.get('has_ligands'): print(\"Drug target\", end=\" \")\n",
        "    if rel.get('high_resolution'): print(\"High-res structure\", end=\" \")\n",
        "    print()\n",
        "\n",
        "print(\"\\n=== This workflow helps identify promising drug targets! ===\")\n"
      ]
    },
    {
      "cell_type": "code",
      "execution_count": null,
      "metadata": {},
      "outputs": [],
      "source": []
    }
  ],
  "metadata": {
    "kernelspec": {
      "display_name": "litefold_py311",
      "language": "python",
      "name": "python3"
    },
    "language_info": {
      "codemirror_mode": {
        "name": "ipython",
        "version": 3
      },
      "file_extension": ".py",
      "mimetype": "text/x-python",
      "name": "python",
      "nbconvert_exporter": "python",
      "pygments_lexer": "ipython3",
      "version": "3.11.11"
    }
  },
  "nbformat": 4,
  "nbformat_minor": 2
}
