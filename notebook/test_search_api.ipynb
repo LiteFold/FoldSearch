{
 "cells": [
  {
   "cell_type": "code",
   "execution_count": 2,
   "metadata": {},
   "outputs": [],
   "source": [
    "from searchapi import (\n",
    "    text_search,\n",
    "    sequence_search,\n",
    "    structure_search,\n",
    "    chemical_search,\n",
    "    organism_search,\n",
    "    method_search,\n",
    "    high_quality_structures,\n",
    ")\n",
    "from pydantic import BaseModel"
   ]
  },
  {
   "cell_type": "code",
   "execution_count": null,
   "metadata": {},
   "outputs": [],
   "source": [
    "TOOL_DESCRIPTIONS = {\n",
    "    \"text_search\": \"Search PDB entries using text queries like protein names or PDB IDs.\",\n",
    "    \"sequence_search\": \"Find structures with similar amino acid or nucleotide sequences using BLAST-like algorithm.\",\n",
    "    \"structure_search\": \"Find structures with similar 3D shapes using a reference PDB structure.\",\n",
    "    \"chemical_search\": \"Find structures containing specific chemical compounds using SMILES or InChI identifiers.\",\n",
    "    \"organism_search\": \"Find structures from a specific organism using its scientific name.\",\n",
    "    \"method_search\": \"Find structures determined by a specific experimental method like X-ray or NMR.\",\n",
    "    \"high_quality_structures\": \"Find high-quality X-ray structures based on resolution and R-work criteria.\"\n",
    "}"
   ]
  },
  {
   "cell_type": "code",
   "execution_count": 16,
   "metadata": {},
   "outputs": [
    {
     "data": {
      "text/plain": [
       "{'pdb_ids': ['3NIR',\n",
       "  '5D8V',\n",
       "  '1EJG',\n",
       "  '3P4J',\n",
       "  '5NW3',\n",
       "  '1I0T',\n",
       "  '7ATG',\n",
       "  '1J8G',\n",
       "  '1UCS',\n",
       "  '3X2M'],\n",
       " 'total_count': 95259,\n",
       " 'scores': {'3NIR': 1.0,\n",
       "  '5D8V': 1.0,\n",
       "  '1EJG': 1.0,\n",
       "  '3P4J': 1.0,\n",
       "  '5NW3': 1.0,\n",
       "  '1I0T': 1.0,\n",
       "  '7ATG': 1.0,\n",
       "  '1J8G': 1.0,\n",
       "  '1UCS': 1.0,\n",
       "  '3X2M': 1.0},\n",
       " 'returned_count': 10}"
      ]
     },
     "execution_count": 16,
     "metadata": {},
     "output_type": "execute_result"
    }
   ],
   "source": [
    "high_quality_structures(\n",
    "    max_resolution=2.0,  # Maximum resolution in Angstroms\n",
    "    max_r_work=0.25,    # Maximum R-work value\n",
    "    limit=10,           # Return up to 10 results\n",
    "    timeout=30,         # Request timeout in seconds\n",
    "    max_retries=3       # Maximum number of retry attempts\n",
    ")"
   ]
  },
  {
   "cell_type": "code",
   "execution_count": 15,
   "metadata": {},
   "outputs": [
    {
     "data": {
      "text/plain": [
       "{'pdb_ids': ['100D',\n",
       "  '101D',\n",
       "  '101M',\n",
       "  '102D',\n",
       "  '102L',\n",
       "  '102M',\n",
       "  '103L',\n",
       "  '103M',\n",
       "  '104L',\n",
       "  '104M'],\n",
       " 'total_count': 195382,\n",
       " 'scores': {'100D': 1.0,\n",
       "  '101D': 1.0,\n",
       "  '101M': 1.0,\n",
       "  '102D': 1.0,\n",
       "  '102L': 1.0,\n",
       "  '102M': 1.0,\n",
       "  '103L': 1.0,\n",
       "  '103M': 1.0,\n",
       "  '104L': 1.0,\n",
       "  '104M': 1.0},\n",
       " 'returned_count': 10}"
      ]
     },
     "execution_count": 15,
     "metadata": {},
     "output_type": "execute_result"
    }
   ],
   "source": [
    "method_search(\n",
    "    method=\"X-RAY DIFFRACTION\",  # Experimental method (e.g., \"X-RAY DIFFRACTION\", \"ELECTRON MICROSCOPY\", \"NMR\")\n",
    "    limit=10,  # Return up to 10 results\n",
    "    timeout=30,  # Request timeout in seconds\n",
    "    max_retries=3  # Maximum number of retry attempts\n",
    ")"
   ]
  },
  {
   "cell_type": "code",
   "execution_count": 14,
   "metadata": {},
   "outputs": [
    {
     "data": {
      "text/plain": [
       "{'pdb_ids': ['10GS',\n",
       "  '11GS',\n",
       "  '121P',\n",
       "  '12CA',\n",
       "  '12GS',\n",
       "  '133L',\n",
       "  '134L',\n",
       "  '13GS',\n",
       "  '14GS',\n",
       "  '16GS'],\n",
       " 'total_count': 75108,\n",
       " 'scores': {'10GS': 1.0,\n",
       "  '11GS': 1.0,\n",
       "  '121P': 1.0,\n",
       "  '12CA': 1.0,\n",
       "  '12GS': 1.0,\n",
       "  '133L': 1.0,\n",
       "  '134L': 1.0,\n",
       "  '13GS': 1.0,\n",
       "  '14GS': 1.0,\n",
       "  '16GS': 1.0},\n",
       " 'returned_count': 10}"
      ]
     },
     "execution_count": 14,
     "metadata": {},
     "output_type": "execute_result"
    }
   ],
   "source": [
    "# Search for structures from Homo sapiens\n",
    "organism_search(\n",
    "    organism=\"Homo sapiens\",  # Scientific name of the organism\n",
    "    limit=10  # Return up to 10 results\n",
    ")"
   ]
  },
  {
   "cell_type": "code",
   "execution_count": 13,
   "metadata": {},
   "outputs": [
    {
     "data": {
      "text/plain": [
       "{'pdb_ids': ['19HC',\n",
       "  '1A3I',\n",
       "  '1A44',\n",
       "  '1A7P',\n",
       "  '1AA5',\n",
       "  '1AGN',\n",
       "  '1AOK',\n",
       "  '1AQ0',\n",
       "  '1AS4',\n",
       "  '1ATG'],\n",
       " 'total_count': 8376,\n",
       " 'scores': {'19HC': 1.0,\n",
       "  '1A3I': 1.0,\n",
       "  '1A44': 1.0,\n",
       "  '1A7P': 1.0,\n",
       "  '1AA5': 1.0,\n",
       "  '1AGN': 1.0,\n",
       "  '1AOK': 1.0,\n",
       "  '1AQ0': 1.0,\n",
       "  '1AS4': 1.0,\n",
       "  '1ATG': 1.0},\n",
       " 'returned_count': 10}"
      ]
     },
     "execution_count": 13,
     "metadata": {},
     "output_type": "execute_result"
    }
   ],
   "source": [
    "chemical_search(\n",
    "    identifier=\"CC(=O)O\",  # SMILES string for acetic acid\n",
    "    identifier_type=\"SMILES\",  # Using SMILES notation\n",
    "    match_type=\"graph-relaxed\",  # Flexible matching\n",
    "    limit=10  # Return up to 10 results\n",
    ")"
   ]
  },
  {
   "cell_type": "code",
   "execution_count": 11,
   "metadata": {},
   "outputs": [
    {
     "data": {
      "text/plain": [
       "{'pdb_ids': ['2PGH', '1QPW', '1SDL'],\n",
       " 'total_count': 1188,\n",
       " 'scores': {'2PGH': 1.0,\n",
       "  '1QPW': 0.8762649951856613,\n",
       "  '1SDL': 0.8457025372810714},\n",
       " 'returned_count': 3}"
      ]
     },
     "execution_count": 11,
     "metadata": {},
     "output_type": "execute_result"
    }
   ],
   "source": [
    "structure_search(\n",
    "    pdb_id=\"2PGH\",\n",
    "    assembly_id=\"1\",\n",
    "    match_type=\"relaxed\",\n",
    "    limit=3\n",
    ")"
   ]
  },
  {
   "cell_type": "code",
   "execution_count": 9,
   "metadata": {},
   "outputs": [
    {
     "data": {
      "text/plain": [
       "{'pdb_ids': ['1QPW', '2PGH', '4F4O'],\n",
       " 'total_count': 448,\n",
       " 'scores': {'1QPW': 1.0, '2PGH': 1.0, '4F4O': 1.0},\n",
       " 'returned_count': 3}"
      ]
     },
     "execution_count": 9,
     "metadata": {},
     "output_type": "execute_result"
    }
   ],
   "source": [
    "sequence_search(\n",
    "    sequence=\"VHLSAEEKEAVLGLWGKVNVDEVGGEALGRLLVVYPWTQRF\",\n",
    "    sequence_type=\"protein\",\n",
    "    limit=3\n",
    ")"
   ]
  },
  {
   "cell_type": "code",
   "execution_count": null,
   "metadata": {},
   "outputs": [],
   "source": [
    "from openai import OpenAI\n",
    "\n",
    "client = OpenAI()\n",
    "\n",
    "tools = [{\n",
    "    \"type\": \"function\",\n",
    "    \"function\": {\n",
    "        \"name\": \"get_weather\",\n",
    "        \"description\": \"Get current temperature for a given location.\",\n",
    "        \"parameters\": {\n",
    "            \"type\": \"object\",\n",
    "            \"properties\": {\n",
    "                \"location\": {\n",
    "                    \"type\": \"string\",\n",
    "                    \"description\": \"City and country e.g. Bogotá, Colombia\"\n",
    "                }\n",
    "            },\n",
    "            \"required\": [\n",
    "                \"location\"\n",
    "            ],\n",
    "            \"additionalProperties\": False\n",
    "        },\n",
    "        \"strict\": True\n",
    "    }\n",
    "}]\n",
    "\n",
    "completion = client.chat.completions.create(\n",
    "    model=\"gpt-4.1\",\n",
    "    messages=[{\"role\": \"user\", \"content\": \"What is the weather like in Paris today?\"}],\n",
    "    tools=tools\n",
    ")\n",
    "\n",
    "print(completion.choices[0].message.tool_calls)"
   ]
  },
  {
   "cell_type": "code",
   "execution_count": 3,
   "metadata": {},
   "outputs": [],
   "source": [
    "text_search_result = text_search(\n",
    "    query=\"haptoglobin protein\", limit=10\n",
    ")"
   ]
  },
  {
   "cell_type": "code",
   "execution_count": 4,
   "metadata": {},
   "outputs": [
    {
     "data": {
      "text/plain": [
       "{'pdb_ids': ['4X0J',\n",
       "  '4E40',\n",
       "  '5EE2',\n",
       "  '4WJG',\n",
       "  '1CG5',\n",
       "  '1CG8',\n",
       "  '9FNM',\n",
       "  '1C40',\n",
       "  '1T1N',\n",
       "  '3WR1'],\n",
       " 'total_count': 508,\n",
       " 'scores': {'4X0J': 1.0,\n",
       "  '4E40': 0.9716970575828646,\n",
       "  '5EE2': 0.9062692997790307,\n",
       "  '4WJG': 0.8989484434576879,\n",
       "  '1CG5': 0.8876781796127291,\n",
       "  '1CG8': 0.8876781796127291,\n",
       "  '9FNM': 0.8842872915091516,\n",
       "  '1C40': 0.87768981091188,\n",
       "  '1T1N': 0.877688299729093,\n",
       "  '3WR1': 0.8776866511660527},\n",
       " 'returned_count': 10}"
      ]
     },
     "execution_count": 4,
     "metadata": {},
     "output_type": "execute_result"
    }
   ],
   "source": [
    "text_search_result"
   ]
  },
  {
   "cell_type": "code",
   "execution_count": null,
   "metadata": {},
   "outputs": [],
   "source": []
  },
  {
   "cell_type": "code",
   "execution_count": null,
   "metadata": {},
   "outputs": [],
   "source": []
  }
 ],
 "metadata": {
  "kernelspec": {
   "display_name": "litefold_py311",
   "language": "python",
   "name": "python3"
  },
  "language_info": {
   "codemirror_mode": {
    "name": "ipython",
    "version": 3
   },
   "file_extension": ".py",
   "mimetype": "text/x-python",
   "name": "python",
   "nbconvert_exporter": "python",
   "pygments_lexer": "ipython3",
   "version": "3.11.11"
  }
 },
 "nbformat": 4,
 "nbformat_minor": 2
}
